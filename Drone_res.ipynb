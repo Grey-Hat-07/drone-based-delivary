{
 "cells": [
  {
   "cell_type": "markdown",
   "metadata": {},
   "source": [
    "## Drone Graph\n"
   ]
  },
  {
   "cell_type": "code",
   "execution_count": 117,
   "metadata": {},
   "outputs": [],
   "source": [
    "import pandas as pd\n",
    "import numpy as np\n",
    "import matplotlib.pyplot as plt\n",
    "import random\n",
    "import itertools\n",
    "import math"
   ]
  },
  {
   "cell_type": "code",
   "execution_count": 118,
   "metadata": {},
   "outputs": [
    {
     "data": {
      "text/plain": [
       "[[5, 8], [6, 5], [3, 5], [5, 0], [0, 9]]"
      ]
     },
     "execution_count": 118,
     "metadata": {},
     "output_type": "execute_result"
    }
   ],
   "source": [
    "def Create_locations(x,y,n):\n",
    "    locations= []\n",
    "    for i in range(n):\n",
    "        loc_x = random.randint(int(0), int(x))\n",
    "        loc_y = random.randint(int(0), int(y))\n",
    "        locations.append([loc_x,loc_y])\n",
    "    return locations\n",
    "\n",
    "Create_locations(10,10,5)\n"
   ]
  },
  {
   "cell_type": "code",
   "execution_count": 119,
   "metadata": {},
   "outputs": [],
   "source": [
    "def calculate_euclidean_distance(point1, point2):\n",
    "    \n",
    "    return np.sqrt((point1[0] - point2[0])**2 + (point1[1] - point2[1])**2)\n",
    "\n",
    "def calculate_manhattan_distance(point1, point2):\n",
    "    \n",
    "    return abs(point1[0] - point2[0]) + abs(point1[1] - point2[1])\n",
    "\n",
    "def calculate_total_distance(DP_candidate, delivery_locations, k):\n",
    "    total_euclidean_distance = 0\n",
    "    total_manhattan_distance = 0\n",
    "    if DP_candidate[1]<=k:\n",
    "        for delivery_location in delivery_locations:\n",
    "            if delivery_location[1] <= k:\n",
    "                total_euclidean_distance += calculate_euclidean_distance(DP_candidate, delivery_location)\n",
    "            else:\n",
    "                total_euclidean_distance += calculate_euclidean_distance(DP_candidate, (k,delivery_location[0]))\n",
    "                total_manhattan_distance += calculate_manhattan_distance((k,delivery_location[0]), delivery_location)\n",
    "\n",
    "    \n",
    "    else:\n",
    "        for delivery_location in delivery_locations:\n",
    "            if delivery_location[1] > k:\n",
    "                total_manhattan_distance += calculate_manhattan_distance(DP_candidate, delivery_location)\n",
    "            else:\n",
    "                total_manhattan_distance += calculate_manhattan_distance(DP_candidate, (k,delivery_location[0]))\n",
    "                total_euclidean_distance += calculate_euclidean_distance((k, delivery_location[0]), delivery_location)\n",
    "    \n",
    "    \n",
    "    return total_euclidean_distance + total_manhattan_distance\n"
   ]
  },
  {
   "cell_type": "code",
   "execution_count": 120,
   "metadata": {},
   "outputs": [],
   "source": [
    "def exhaustive_search(delivery_locations, k, x, y):\n",
    "    euclidean_count = sum(1 for loc in delivery_locations if loc[1] <= k)\n",
    "    manhattan_count = len(delivery_locations) - euclidean_count\n",
    "    \n",
    "    if euclidean_count > manhattan_count:  # Majority in Euclidean region\n",
    "        start_y = 1\n",
    "        end_y = min(y, k)\n",
    "    else:  # Majority in Manhattan region\n",
    "        start_y = k + 1\n",
    "        end_y = y\n",
    "    \n",
    "    min_distance = float('inf')\n",
    "    optimal_DP = None\n",
    "\n",
    "    for DP_candidate in itertools.product(range(1, x + 1), range(start_y, end_y + 1)):\n",
    "        total_distance = calculate_total_distance(DP_candidate, delivery_locations, k)\n",
    "        \n",
    "        if total_distance < min_distance:\n",
    "            min_distance = total_distance\n",
    "            optimal_DP = DP_candidate\n",
    "    \n",
    "    print('Optimal DP:', optimal_DP)\n",
    "    \n",
    "    return optimal_DP, 2*min_distance\n"
   ]
  },
  {
   "cell_type": "code",
   "execution_count": 121,
   "metadata": {},
   "outputs": [],
   "source": [
    "def gec(coordinates):\n",
    "    x_sum = sum(loc[0] for loc in coordinates)\n",
    "    y_sum = sum(loc[1] for loc in coordinates)\n",
    "    x_cord = x_sum / len(coordinates)\n",
    "    y_cord = y_sum / len(coordinates)\n",
    "\n",
    "    return x_cord, y_cord\n",
    "\n",
    "def gmm(coordinate):\n",
    "    x_axis = []\n",
    "    y_axis = []\n",
    "    centroid = []\n",
    "\n",
    "    for i in coordinate:\n",
    "        x_axis.append(i[0])\n",
    "        y_axis.append(i[1])\n",
    "\n",
    "    centroid.append(np.median(x_axis))\n",
    "    centroid.append(np.median(y_axis))\n",
    "\n",
    "    return centroid[0],centroid[1]\n",
    "def ecmb(coordinate, border):\n",
    "    longitude = 0\n",
    "    latitude = 0\n",
    "    k=border\n",
    "    test = gec(coordinate)\n",
    "    for loc in coordinate:\n",
    "        if loc[1] <= k:\n",
    "            longitude+= loc[1]\n",
    "        else:\n",
    "            longitude+= k\n",
    "        latitude+= loc[0]\n",
    "    y_axis = longitude/len(coordinate)\n",
    "    x_axis = latitude/len(coordinate)\n",
    "    return x_axis, y_axis\n",
    "\n",
    "def calculate_manhattan_median(customers):\n",
    "    # Extract coordinates of customer locations\n",
    "    coordinates = [(x, y) for x, y in customers]\n",
    "\n",
    "    # Calculate median coordinates for rows and columns\n",
    "    median_row = sorted([x for x, y in coordinates])[len(coordinates) // 2]\n",
    "    median_column = sorted([y for x, y in coordinates])[len(coordinates) // 2]\n",
    "\n",
    "    return median_row, median_column\n",
    "\n",
    "\n",
    "# import math\n",
    "# import numpy as np\n",
    "\n",
    "def mmeb(customer_locations, border_position):\n",
    "    R = border_position  \n",
    "\n",
    "    euclidean_locations = [(x, y) for x, y in customer_locations if y <= border_position]\n",
    "    manhattan_locations = [(x, y) for x, y in customer_locations if y > border_position]\n",
    "\n",
    "    best_median_row = None\n",
    "    best_median_column = None\n",
    "    best_total_cost = math.inf\n",
    "\n",
    "    possible_positions = np.linspace(1,6, 6)\n",
    "\n",
    "    # Iterate over possible distinct positions on the border\n",
    "    for i in possible_positions:\n",
    "\n",
    "        projected_euclidean = [(i, border_position) for _, _ in euclidean_locations]\n",
    "\n",
    "        combined_customers = projected_euclidean + manhattan_locations\n",
    "\n",
    "        median_row, median_column = calculate_manhattan_median(combined_customers)\n",
    "\n",
    "        total_cost = sum(math.sqrt((x-i)**2 + (y-border_position)**2) for x,y in euclidean_locations) #cost from euclidian to border\n",
    "        total_cost += sum(abs(x-median_row) + abs(y-median_column) for x,y in combined_customers) #cost from border to manhattan\n",
    "        if total_cost < best_total_cost:\n",
    "            best_total_cost = total_cost\n",
    "            best_median_row = median_row\n",
    "            best_median_column = median_column\n",
    "\n",
    "    return best_median_row, best_median_column\n",
    "\n",
    "# majority_manhattan_dp = mmeb(loc, k)\n",
    "# print('Majority Manhattan DP:', majority_manhattan_dp)\n",
    "# print(2*calculate_total_distance(majority_manhattan_dp, loc, k)/dist)\n",
    "\n",
    "\n",
    "\n",
    "\n"
   ]
  },
  {
   "cell_type": "code",
   "execution_count": 122,
   "metadata": {},
   "outputs": [
    {
     "name": "stdout",
     "output_type": "stream",
     "text": [
      "Optimal DP: (3, 3)\n",
      "31.98140956982914\n",
      "(3, 3)\n"
     ]
    }
   ],
   "source": [
    "x=6\n",
    "y=10\n",
    "k=4\n",
    "n=5\n",
    "# loc = Create_locations(x,y,n)\n",
    "loc =[[2,3],[4,2], [4,7], [6,10],[3,3]]\n",
    "# loc =[[3,2],[2,4],[7,4],[10,6],[3,3]]\n",
    "# dist = calculate_total_distance([3,3], loc, k)\n",
    "dp,dist = exhaustive_search(loc, k, x,y)\n",
    "\n",
    "print(dist)\n",
    "print(dp)\n",
    "# initial_dp"
   ]
  },
  {
   "cell_type": "code",
   "execution_count": 128,
   "metadata": {},
   "outputs": [
    {
     "name": "stdout",
     "output_type": "stream",
     "text": [
      "Full Euclidean DP: (3.8, 5.0)\n",
      "Full Manhattan DP: (4.0, 3.0)\n",
      "Majority Euclidean DP: (3.8, 3.2)\n",
      "Majority Manhattan DP: (4.0, 4)\n",
      "42.47213595499958\n",
      "34.0\n",
      "32.96801110691566\n",
      "33.30056307974577\n",
      "1.3280257664148505\n",
      "1.0631176191832137\n",
      "1.0308492199173507\n",
      "1.0412475099646985\n"
     ]
    }
   ],
   "source": [
    "Full_euclidean_dp = gec(loc)\n",
    "Full_manhattan_dp = gmm(loc)\n",
    "Majority_euclidean_dp = ecmb(loc, k)\n",
    "majority_manhattan_dp = mmeb(loc, k)\n",
    "\n",
    "print('Full Euclidean DP:', Full_euclidean_dp)\n",
    "print('Full Manhattan DP:', Full_manhattan_dp)\n",
    "print('Majority Euclidean DP:', Majority_euclidean_dp)\n",
    "print('Majority Manhattan DP:', majority_manhattan_dp)\n",
    "print(2*calculate_total_distance(Full_euclidean_dp, loc, k))\n",
    "print(2*calculate_total_distance(Full_manhattan_dp, loc, k))\n",
    "print(2*calculate_total_distance(Majority_euclidean_dp, loc, k))\n",
    "print(2*calculate_total_distance(majority_manhattan_dp, loc, k))\n",
    "print(2*calculate_total_distance((Full_euclidean_dp), loc, k)/dist)\n",
    "print(2*calculate_total_distance(Full_manhattan_dp, loc, k)/dist)\n",
    "print(2*calculate_total_distance((Majority_euclidean_dp), loc, k)/dist)\n",
    "\n",
    "# majority_manhattan_dp = mmeb(loc, k)\n",
    "\n",
    "print(2*calculate_total_distance(majority_manhattan_dp, loc, k)/dist)\n"
   ]
  },
  {
   "cell_type": "code",
   "execution_count": 159,
   "metadata": {},
   "outputs": [
    {
     "name": "stdout",
     "output_type": "stream",
     "text": [
      "Optimal DP: (17, 6)\n",
      "Optimal DP: (27, 29)\n",
      "Optimal DP: (12, 33)\n",
      "Optimal DP: (16, 24)\n",
      "Optimal DP: (13, 27)\n",
      "Optimal DP: (16, 32)\n"
     ]
    },
    {
     "data": {
      "image/png": "[encoded data removed]",
      "text/plain": [
       "<Figure size 640x480 with 1 Axes>"
      ]
     },
     "metadata": {},
     "output_type": "display_data"
    }
   ],
   "source": [
    "x = 50\n",
    "y = 50\n",
    "k = 12\n",
    "n_values = [5, 10, 15, 20,50 ,100]\n",
    "\n",
    "# Initialize lists to store rho values for each method\n",
    "rho_full_eucli_values = []\n",
    "rho_full_manh_values = []\n",
    "rho_major_eucli_values = []\n",
    "rho_major_manh_values = []\n",
    "\n",
    "# Loop through each n value\n",
    "for n in n_values:\n",
    "    # Create the locations\n",
    "    loc = Create_locations(x, y, n)\n",
    "    \n",
    "    # Perform exhaustive search and calculate rho values\n",
    "    dp, dist = exhaustive_search(loc, k, x, y)\n",
    "    Full_euclidean_dp = gec(loc)\n",
    "    Full_manhattan_dp = gmm(loc)\n",
    "    Majority_euclidean_dp = ecmb(loc, k)\n",
    "    majority_manhattan_dp = mmeb(loc, k)\n",
    "    \n",
    "    rho_full_eucli = 2 * calculate_total_distance(Full_euclidean_dp, loc, k) / dist\n",
    "    rho_full_manh = 2 * calculate_total_distance(Full_manhattan_dp, loc, k) / dist\n",
    "    rho_major_eucli = 2 * calculate_total_distance(Majority_euclidean_dp, loc, k) / dist\n",
    "    rho_major_manh = 2 * calculate_total_distance(majority_manhattan_dp, loc, k) / dist\n",
    "    \n",
    "    # Append rho values to the lists\n",
    "    rho_full_eucli_values.append(rho_full_eucli)\n",
    "    rho_full_manh_values.append(rho_full_manh)\n",
    "    rho_major_eucli_values.append(rho_major_eucli)\n",
    "    rho_major_manh_values.append(rho_major_manh)\n",
    "\n",
    "# Plot the rho values\n",
    "plt.plot(n_values, rho_full_eucli_values, label='Full Euclidean')\n",
    "plt.plot(n_values, rho_full_manh_values, label='Full Manhattan')\n",
    "plt.plot(n_values, rho_major_eucli_values, label='Majority Euclidean')\n",
    "plt.plot(n_values, rho_major_manh_values, label='Majority Manhattan')\n",
    "\n",
    "# Add labels and legend\n",
    "\n",
    "plt.ylabel('ρ (Rho)')\n",
    "plt.grid()\n",
    "plt.title('Rho Values for Different Methods')\n",
    "plt.legend()\n",
    "\n",
    "# Show the plot\n",
    "plt.show()"
   ]
  }
 ],
 "metadata": {
  "kernelspec": {
   "display_name": "Python 3",
   "language": "python",
   "name": "python3"
  },
  "language_info": {
   "codemirror_mode": {
    "name": "ipython",
    "version": 3
   },
   "file_extension": ".py",
   "mimetype": "text/x-python",
   "name": "python",
   "nbconvert_exporter": "python",
   "pygments_lexer": "ipython3",
   "version": "3.11.2"
  }
 },
 "nbformat": 4,
 "nbformat_minor": 2
}
